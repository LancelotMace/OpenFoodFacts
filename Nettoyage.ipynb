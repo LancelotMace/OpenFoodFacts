{
 "cells": [
  {
   "cell_type": "markdown",
   "metadata": {},
   "source": [
    "# Nettoyage des données"
   ]
  },
  {
   "cell_type": "markdown",
   "metadata": {},
   "source": [
    "## Présentation du jeu de données"
   ]
  },
  {
   "cell_type": "markdown",
   "metadata": {},
   "source": [
    "L'ensemble des données utilisées ici est accessbile librement et gratuitement sur le site www.openfoodfacts.org, sous licence \"Open Database Licence\".\n",
    "La base de données pèse en totalité 2,22Go et représente \"une base de données sur les produits alimentaires faite par tout le monde, pour tout le monde\".\n",
    "On y trouve donc notamment les ingrédients et la composition nutritionnelle de produits trouvables en super marché, partout dans le monde, renseignés par les utilisateurs d'une application mobile. Il y a donc des imperfections : des champs sont souvent manquants ou mal renseignés.\n",
    "La base de données contient 1156720 produits et chaque produit possède 178 features."
   ]
  },
  {
   "cell_type": "markdown",
   "metadata": {},
   "source": [
    "Importation des extensions utilisées dans le Notebook"
   ]
  },
  {
   "cell_type": "code",
   "execution_count": 1,
   "metadata": {},
   "outputs": [],
   "source": [
    "import pandas as pd\n",
    "import numpy as np\n",
    "import matplotlib.pyplot as plt\n",
    "import seaborn as sns\n",
    "%matplotlib inline\n",
    "from wordcloud import WordCloud\n",
    "pd.set_option(\"display.max_rows\",200)\n",
    "sns.set(font_scale=3, rc={'figure.figsize':(15,15)})\n",
    "from pandas.api.types import CategoricalDtype"
   ]
  },
  {
   "cell_type": "markdown",
   "metadata": {},
   "source": [
    "Récupération des données"
   ]
  },
  {
   "cell_type": "code",
   "execution_count": 2,
   "metadata": {},
   "outputs": [],
   "source": [
    "data = pd.read_csv('en.openfoodfacts.org.products.csv', delimiter='\\t', low_memory=False)"
   ]
  },
  {
   "cell_type": "code",
   "execution_count": 3,
   "metadata": {},
   "outputs": [
    {
     "name": "stdout",
     "output_type": "stream",
     "text": [
      "<class 'pandas.core.frame.DataFrame'>\n",
      "RangeIndex: 1156720 entries, 0 to 1156719\n",
      "Data columns (total 178 columns):\n",
      " #   Column                                      Non-Null Count    Dtype  \n",
      "---  ------                                      --------------    -----  \n",
      " 0   code                                        1156720 non-null  object \n",
      " 1   url                                         1156720 non-null  object \n",
      " 2   creator                                     1156716 non-null  object \n",
      " 3   created_t                                   1156720 non-null  int64  \n",
      " 4   created_datetime                            1156719 non-null  object \n",
      " 5   last_modified_t                             1156720 non-null  int64  \n",
      " 6   last_modified_datetime                      1156720 non-null  object \n",
      " 7   product_name                                1101772 non-null  object \n",
      " 8   generic_name                                97161 non-null    object \n",
      " 9   quantity                                    356992 non-null   object \n",
      " 10  packaging                                   199443 non-null   object \n",
      " 11  packaging_tags                              199435 non-null   object \n",
      " 12  brands                                      698188 non-null   object \n",
      " 13  brands_tags                                 698138 non-null   object \n",
      " 14  categories                                  429221 non-null   object \n",
      " 15  categories_tags                             429220 non-null   object \n",
      " 16  categories_en                               429220 non-null   object \n",
      " 17  origins                                     57439 non-null    object \n",
      " 18  origins_tags                                57340 non-null    object \n",
      " 19  manufacturing_places                        91083 non-null    object \n",
      " 20  manufacturing_places_tags                   91046 non-null    object \n",
      " 21  labels                                      237107 non-null   object \n",
      " 22  labels_tags                                 237127 non-null   object \n",
      " 23  labels_en                                   237127 non-null   object \n",
      " 24  emb_codes                                   72098 non-null    object \n",
      " 25  emb_codes_tags                              72069 non-null    object \n",
      " 26  first_packaging_code_geo                    46154 non-null    object \n",
      " 27  cities                                      0 non-null        float64\n",
      " 28  cities_tags                                 49589 non-null    object \n",
      " 29  purchase_places                             128801 non-null   object \n",
      " 30  stores                                      190789 non-null   object \n",
      " 31  countries                                   1154809 non-null  object \n",
      " 32  countries_tags                              1154807 non-null  object \n",
      " 33  countries_en                                1154807 non-null  object \n",
      " 34  ingredients_text                            468934 non-null   object \n",
      " 35  allergens                                   90024 non-null    object \n",
      " 36  allergens_en                                0 non-null        float64\n",
      " 37  traces                                      69532 non-null    object \n",
      " 38  traces_tags                                 88614 non-null    object \n",
      " 39  traces_en                                   88614 non-null    object \n",
      " 40  serving_size                                287078 non-null   object \n",
      " 41  serving_quantity                            287200 non-null   float64\n",
      " 42  no_nutriments                               0 non-null        float64\n",
      " 43  additives_n                                 468824 non-null   float64\n",
      " 44  additives                                   38 non-null       object \n",
      " 45  additives_tags                              255069 non-null   object \n",
      " 46  additives_en                                255069 non-null   object \n",
      " 47  ingredients_from_palm_oil_n                 468824 non-null   float64\n",
      " 48  ingredients_from_palm_oil                   0 non-null        float64\n",
      " 49  ingredients_from_palm_oil_tags              12417 non-null    object \n",
      " 50  ingredients_that_may_be_from_palm_oil_n     468824 non-null   float64\n",
      " 51  ingredients_that_may_be_from_palm_oil       0 non-null        float64\n",
      " 52  ingredients_that_may_be_from_palm_oil_tags  27345 non-null    object \n",
      " 53  nutriscore_score                            327889 non-null   float64\n",
      " 54  nutriscore_grade                            327889 non-null   object \n",
      " 55  nova_group                                  344276 non-null   float64\n",
      " 56  pnns_groups_1                               1143983 non-null  object \n",
      " 57  pnns_groups_2                               1155847 non-null  object \n",
      " 58  states                                      1156720 non-null  object \n",
      " 59  states_tags                                 1156720 non-null  object \n",
      " 60  states_en                                   1156720 non-null  object \n",
      " 61  main_category                               429220 non-null   object \n",
      " 62  main_category_en                            429220 non-null   object \n",
      " 63  image_url                                   884450 non-null   object \n",
      " 64  image_small_url                             884450 non-null   object \n",
      " 65  image_ingredients_url                       600357 non-null   object \n",
      " 66  image_ingredients_small_url                 600357 non-null   object \n",
      " 67  image_nutrition_url                         457150 non-null   object \n",
      " 68  image_nutrition_small_url                   457150 non-null   object \n",
      " 69  energy-kj_100g                              92797 non-null    float64\n",
      " 70  energy-kcal_100g                            843158 non-null   float64\n",
      " 71  energy_100g                                 917872 non-null   float64\n",
      " 72  energy-from-fat_100g                        960 non-null      float64\n",
      " 73  fat_100g                                    911311 non-null   float64\n",
      " 74  saturated-fat_100g                          881021 non-null   float64\n",
      " 75  -butyric-acid_100g                          1 non-null        float64\n",
      " 76  -caproic-acid_100g                          0 non-null        float64\n",
      " 77  -caprylic-acid_100g                         1 non-null        float64\n",
      " 78  -capric-acid_100g                           4 non-null        float64\n",
      " 79  -lauric-acid_100g                           9 non-null        float64\n",
      " 80  -myristic-acid_100g                         1 non-null        float64\n",
      " 81  -palmitic-acid_100g                         3 non-null        float64\n",
      " 82  -stearic-acid_100g                          1 non-null        float64\n",
      " 83  -arachidic-acid_100g                        3 non-null        float64\n",
      " 84  -behenic-acid_100g                          1 non-null        float64\n",
      " 85  -lignoceric-acid_100g                       0 non-null        float64\n",
      " 86  -cerotic-acid_100g                          3 non-null        float64\n",
      " 87  -montanic-acid_100g                         2 non-null        float64\n",
      " 88  -melissic-acid_100g                         0 non-null        float64\n",
      " 89  monounsaturated-fat_100g                    24595 non-null    float64\n",
      " 90  polyunsaturated-fat_100g                    24652 non-null    float64\n",
      " 91  omega-3-fat_100g                            1644 non-null     float64\n",
      " 92  -alpha-linolenic-acid_100g                  308 non-null      float64\n",
      " 93  -eicosapentaenoic-acid_100g                 100 non-null      float64\n",
      " 94  -docosahexaenoic-acid_100g                  136 non-null      float64\n",
      " 95  omega-6-fat_100g                            385 non-null      float64\n",
      " 96  -linoleic-acid_100g                         201 non-null      float64\n",
      " 97  -arachidonic-acid_100g                      16 non-null       float64\n",
      " 98  -gamma-linolenic-acid_100g                  4 non-null        float64\n",
      " 99  -dihomo-gamma-linolenic-acid_100g           1 non-null        float64\n",
      " 100 omega-9-fat_100g                            43 non-null       float64\n",
      " 101 -oleic-acid_100g                            21 non-null       float64\n",
      " 102 -elaidic-acid_100g                          0 non-null        float64\n",
      " 103 -gondoic-acid_100g                          0 non-null        float64\n",
      " 104 -mead-acid_100g                             0 non-null        float64\n",
      " 105 -erucic-acid_100g                           0 non-null        float64\n",
      " 106 -nervonic-acid_100g                         0 non-null        float64\n",
      " 107 trans-fat_100g                              144465 non-null   float64\n",
      " 108 cholesterol_100g                            145301 non-null   float64\n",
      " 109 carbohydrates_100g                          911229 non-null   float64\n",
      " 110 sugars_100g                                 896833 non-null   float64\n",
      " 111 -sucrose_100g                               120 non-null      float64\n",
      " 112 -glucose_100g                               53 non-null       float64\n",
      " 113 -fructose_100g                              73 non-null       float64\n",
      " 114 -lactose_100g                               502 non-null      float64\n",
      " 115 -maltose_100g                               9 non-null        float64\n",
      " 116 -maltodextrins_100g                         16 non-null       float64\n",
      " 117 starch_100g                                 398 non-null      float64\n",
      " 118 polyols_100g                                841 non-null      float64\n",
      " 119 fiber_100g                                  310698 non-null   float64\n",
      " 120 proteins_100g                               912843 non-null   float64\n",
      " 121 casein_100g                                 40 non-null       float64\n",
      " 122 serum-proteins_100g                         36 non-null       float64\n",
      " 123 nucleotides_100g                            13 non-null       float64\n",
      " 124 salt_100g                                   902493 non-null   float64\n",
      " 125 sodium_100g                                 902443 non-null   float64\n",
      " 126 alcohol_100g                                13982 non-null    float64\n",
      " 127 vitamin-a_100g                              139295 non-null   float64\n",
      " 128 beta-carotene_100g                          71 non-null       float64\n",
      " 129 vitamin-d_100g                              8661 non-null     float64\n",
      " 130 vitamin-e_100g                              2674 non-null     float64\n",
      " 131 vitamin-k_100g                              1038 non-null     float64\n",
      " 132 vitamin-c_100g                              142891 non-null   float64\n",
      " 133 vitamin-b1_100g                             12513 non-null    float64\n",
      " 134 vitamin-b2_100g                             11978 non-null    float64\n",
      " 135 vitamin-pp_100g                             12788 non-null    float64\n",
      " 136 vitamin-b6_100g                             8073 non-null     float64\n",
      " 137 vitamin-b9_100g                             6136 non-null     float64\n",
      " 138 folates_100g                                3094 non-null     float64\n",
      " 139 vitamin-b12_100g                            6514 non-null     float64\n",
      " 140 biotin_100g                                 622 non-null      float64\n",
      " 141 pantothenic-acid_100g                       3125 non-null     float64\n",
      " 142 silica_100g                                 102 non-null      float64\n",
      " 143 bicarbonate_100g                            317 non-null      float64\n",
      " 144 potassium_100g                              26443 non-null    float64\n",
      " 145 chloride_100g                               579 non-null      float64\n",
      " 146 calcium_100g                                146868 non-null   float64\n",
      " 147 phosphorus_100g                             6829 non-null     float64\n",
      " 148 iron_100g                                   143120 non-null   float64\n",
      " 149 magnesium_100g                              7972 non-null     float64\n",
      " 150 zinc_100g                                   4645 non-null     float64\n",
      " 151 copper_100g                                 2316 non-null     float64\n",
      " 152 manganese_100g                              1897 non-null     float64\n",
      " 153 fluoride_100g                               265 non-null      float64\n",
      " 154 selenium_100g                               1354 non-null     float64\n",
      " 155 chromium_100g                               65 non-null       float64\n",
      " 156 molybdenum_100g                             68 non-null       float64\n",
      " 157 iodine_100g                                 644 non-null      float64\n",
      " 158 caffeine_100g                               277 non-null      float64\n",
      " 159 taurine_100g                                111 non-null      float64\n",
      " 160 ph_100g                                     149 non-null      float64\n",
      " 161 fruits-vegetables-nuts_100g                 5824 non-null     float64\n",
      " 162 fruits-vegetables-nuts-dried_100g           291 non-null      float64\n",
      " 163 fruits-vegetables-nuts-estimate_100g        10662 non-null    float64\n",
      " 164 collagen-meat-protein-ratio_100g            289 non-null      float64\n",
      " 165 cocoa_100g                                  4893 non-null     float64\n",
      " 166 chlorophyl_100g                             2 non-null        float64\n",
      " 167 carbon-footprint_100g                       410 non-null      float64\n",
      " 168 carbon-footprint-from-meat-or-fish_100g     9770 non-null     float64\n",
      " 169 nutrition-score-fr_100g                     327904 non-null   float64\n",
      " 170 nutrition-score-uk_100g                     327904 non-null   float64\n",
      " 171 glycemic-index_100g                         3 non-null        float64\n",
      " 172 water-hardness_100g                         0 non-null        float64\n",
      " 173 choline_100g                                37 non-null       float64\n",
      " 174 phylloquinone_100g                          7 non-null        float64\n",
      " 175 beta-glucan_100g                            22 non-null       float64\n",
      " 176 inositol_100g                               39 non-null       float64\n",
      " 177 carnitine_100g                              17 non-null       float64\n",
      "dtypes: float64(120), int64(2), object(56)\n",
      "memory usage: 1.5+ GB\n"
     ]
    }
   ],
   "source": [
    "data.info(verbose=True, null_counts=True)"
   ]
  },
  {
   "cell_type": "markdown",
   "metadata": {},
   "source": [
    "Dans l'idée de comparer les produits végans aux produits non-végans, nous allons nous intéresser particulièrement à la composition nutritionnelle de ces produits et à leur nutriscore."
   ]
  },
  {
   "cell_type": "markdown",
   "metadata": {},
   "source": [
    "## Nettoyage des données"
   ]
  },
  {
   "cell_type": "markdown",
   "metadata": {},
   "source": [
    "Voyons le taux de remplissage de chacune des colonnes."
   ]
  },
  {
   "cell_type": "code",
   "execution_count": 4,
   "metadata": {},
   "outputs": [
    {
     "data": {
      "text/plain": [
       "code                                          100.000000\n",
       "created_t                                     100.000000\n",
       "states                                        100.000000\n",
       "states_tags                                   100.000000\n",
       "states_en                                     100.000000\n",
       "last_modified_datetime                        100.000000\n",
       "last_modified_t                               100.000000\n",
       "url                                           100.000000\n",
       "created_datetime                               99.999914\n",
       "creator                                        99.999654\n",
       "pnns_groups_2                                  99.924528\n",
       "countries                                      99.834791\n",
       "countries_tags                                 99.834619\n",
       "countries_en                                   99.834619\n",
       "pnns_groups_1                                  98.898869\n",
       "product_name                                   95.249671\n",
       "energy_100g                                    79.351269\n",
       "proteins_100g                                  78.916505\n",
       "fat_100g                                       78.784062\n",
       "carbohydrates_100g                             78.776973\n",
       "salt_100g                                      78.021734\n",
       "sodium_100g                                    78.017411\n",
       "sugars_100g                                    77.532419\n",
       "image_url                                      76.461892\n",
       "image_small_url                                76.461892\n",
       "saturated-fat_100g                             76.165451\n",
       "energy-kcal_100g                               72.892143\n",
       "brands                                         60.359292\n",
       "brands_tags                                    60.354969\n",
       "image_ingredients_small_url                    51.901670\n",
       "image_ingredients_url                          51.901670\n",
       "ingredients_text                               40.539975\n",
       "ingredients_from_palm_oil_n                    40.530465\n",
       "additives_n                                    40.530465\n",
       "ingredients_that_may_be_from_palm_oil_n        40.530465\n",
       "image_nutrition_url                            39.521232\n",
       "image_nutrition_small_url                      39.521232\n",
       "categories                                     37.106733\n",
       "main_category_en                               37.106646\n",
       "categories_en                                  37.106646\n",
       "main_category                                  37.106646\n",
       "categories_tags                                37.106646\n",
       "quantity                                       30.862439\n",
       "nova_group                                     29.763123\n",
       "nutrition-score-fr_100g                        28.347742\n",
       "nutrition-score-uk_100g                        28.347742\n",
       "nutriscore_grade                               28.346445\n",
       "nutriscore_score                               28.346445\n",
       "fiber_100g                                     26.860260\n",
       "serving_quantity                               24.828826\n",
       "serving_size                                   24.818279\n",
       "additives_tags                                 22.051058\n",
       "additives_en                                   22.051058\n",
       "labels_tags                                    20.499948\n",
       "labels_en                                      20.499948\n",
       "labels                                         20.498219\n",
       "packaging                                      17.242116\n",
       "packaging_tags                                 17.241424\n",
       "stores                                         16.493966\n",
       "calcium_100g                                   12.696936\n",
       "cholesterol_100g                               12.561467\n",
       "trans-fat_100g                                 12.489194\n",
       "iron_100g                                      12.372917\n",
       "vitamin-c_100g                                 12.353119\n",
       "vitamin-a_100g                                 12.042240\n",
       "purchase_places                                11.135020\n",
       "generic_name                                    8.399699\n",
       "energy-kj_100g                                  8.022425\n",
       "manufacturing_places                            7.874248\n",
       "manufacturing_places_tags                       7.871049\n",
       "allergens                                       7.782696\n",
       "traces_tags                                     7.660800\n",
       "traces_en                                       7.660800\n",
       "emb_codes                                       6.232969\n",
       "emb_codes_tags                                  6.230462\n",
       "traces                                          6.011135\n",
       "origins                                         4.965679\n",
       "origins_tags                                    4.957120\n",
       "cities_tags                                     4.287036\n",
       "first_packaging_code_geo                        3.990075\n",
       "ingredients_that_may_be_from_palm_oil_tags      2.364012\n",
       "potassium_100g                                  2.286033\n",
       "polyunsaturated-fat_100g                        2.131199\n",
       "monounsaturated-fat_100g                        2.126271\n",
       "alcohol_100g                                    1.208763\n",
       "vitamin-pp_100g                                 1.105540\n",
       "vitamin-b1_100g                                 1.081766\n",
       "ingredients_from_palm_oil_tags                  1.073466\n",
       "vitamin-b2_100g                                 1.035514\n",
       "fruits-vegetables-nuts-estimate_100g            0.921744\n",
       "carbon-footprint-from-meat-or-fish_100g         0.844630\n",
       "vitamin-d_100g                                  0.748755\n",
       "vitamin-b6_100g                                 0.697922\n",
       "magnesium_100g                                  0.689190\n",
       "phosphorus_100g                                 0.590376\n",
       "vitamin-b12_100g                                0.563144\n",
       "vitamin-b9_100g                                 0.530465\n",
       "fruits-vegetables-nuts_100g                     0.503493\n",
       "cocoa_100g                                      0.423006\n",
       "zinc_100g                                       0.401566\n",
       "pantothenic-acid_100g                           0.270160\n",
       "folates_100g                                    0.267480\n",
       "vitamin-e_100g                                  0.231171\n",
       "copper_100g                                     0.200221\n",
       "manganese_100g                                  0.163998\n",
       "omega-3-fat_100g                                0.142126\n",
       "selenium_100g                                   0.117055\n",
       "vitamin-k_100g                                  0.089736\n",
       "energy-from-fat_100g                            0.082993\n",
       "polyols_100g                                    0.072706\n",
       "iodine_100g                                     0.055675\n",
       "biotin_100g                                     0.053773\n",
       "chloride_100g                                   0.050055\n",
       "-lactose_100g                                   0.043399\n",
       "carbon-footprint_100g                           0.035445\n",
       "starch_100g                                     0.034408\n",
       "omega-6-fat_100g                                0.033284\n",
       "bicarbonate_100g                                0.027405\n",
       "-alpha-linolenic-acid_100g                      0.026627\n",
       "fruits-vegetables-nuts-dried_100g               0.025157\n",
       "collagen-meat-protein-ratio_100g                0.024984\n",
       "caffeine_100g                                   0.023947\n",
       "fluoride_100g                                   0.022910\n",
       "-linoleic-acid_100g                             0.017377\n",
       "ph_100g                                         0.012881\n",
       "-docosahexaenoic-acid_100g                      0.011757\n",
       "-sucrose_100g                                   0.010374\n",
       "taurine_100g                                    0.009596\n",
       "silica_100g                                     0.008818\n",
       "-eicosapentaenoic-acid_100g                     0.008645\n",
       "-fructose_100g                                  0.006311\n",
       "beta-carotene_100g                              0.006138\n",
       "molybdenum_100g                                 0.005879\n",
       "chromium_100g                                   0.005619\n",
       "-glucose_100g                                   0.004582\n",
       "omega-9-fat_100g                                0.003717\n",
       "casein_100g                                     0.003458\n",
       "inositol_100g                                   0.003372\n",
       "additives                                       0.003285\n",
       "choline_100g                                    0.003199\n",
       "serum-proteins_100g                             0.003112\n",
       "beta-glucan_100g                                0.001902\n",
       "-oleic-acid_100g                                0.001815\n",
       "carnitine_100g                                  0.001470\n",
       "-arachidonic-acid_100g                          0.001383\n",
       "-maltodextrins_100g                             0.001383\n",
       "nucleotides_100g                                0.001124\n",
       "-maltose_100g                                   0.000778\n",
       "-lauric-acid_100g                               0.000778\n",
       "phylloquinone_100g                              0.000605\n",
       "-gamma-linolenic-acid_100g                      0.000346\n",
       "-capric-acid_100g                               0.000346\n",
       "-palmitic-acid_100g                             0.000259\n",
       "-arachidic-acid_100g                            0.000259\n",
       "glycemic-index_100g                             0.000259\n",
       "-cerotic-acid_100g                              0.000259\n",
       "-montanic-acid_100g                             0.000173\n",
       "chlorophyl_100g                                 0.000173\n",
       "-stearic-acid_100g                              0.000086\n",
       "-behenic-acid_100g                              0.000086\n",
       "-myristic-acid_100g                             0.000086\n",
       "-caprylic-acid_100g                             0.000086\n",
       "-butyric-acid_100g                              0.000086\n",
       "-dihomo-gamma-linolenic-acid_100g               0.000086\n",
       "-erucic-acid_100g                               0.000000\n",
       "water-hardness_100g                             0.000000\n",
       "-nervonic-acid_100g                             0.000000\n",
       "allergens_en                                    0.000000\n",
       "-mead-acid_100g                                 0.000000\n",
       "-gondoic-acid_100g                              0.000000\n",
       "-elaidic-acid_100g                              0.000000\n",
       "no_nutriments                                   0.000000\n",
       "-lignoceric-acid_100g                           0.000000\n",
       "cities                                          0.000000\n",
       "-caproic-acid_100g                              0.000000\n",
       "ingredients_that_may_be_from_palm_oil           0.000000\n",
       "ingredients_from_palm_oil                       0.000000\n",
       "-melissic-acid_100g                             0.000000\n",
       "dtype: float64"
      ]
     },
     "execution_count": 4,
     "metadata": {},
     "output_type": "execute_result"
    }
   ],
   "source": [
    "(100*data.count()/data.shape[0]).sort_values(axis=0, ascending=False)"
   ]
  },
  {
   "cell_type": "markdown",
   "metadata": {},
   "source": [
    "Beaucoup de features sont très peu renseignées...\n",
    "Nous allons donc filtrer la base et ne garder que les colonnes qui nous intéressent et qui sont suffisamment remplies."
   ]
  },
  {
   "cell_type": "markdown",
   "metadata": {},
   "source": [
    "Commençons par retirer les produits renseignés plusieurs fois, et ayant donc le même code barre."
   ]
  },
  {
   "cell_type": "code",
   "execution_count": 5,
   "metadata": {},
   "outputs": [
    {
     "data": {
      "text/plain": [
       "False    1156501\n",
       "True         219\n",
       "Name: code, dtype: int64"
      ]
     },
     "execution_count": 5,
     "metadata": {},
     "output_type": "execute_result"
    }
   ],
   "source": [
    "data['code'].duplicated().value_counts()"
   ]
  },
  {
   "cell_type": "code",
   "execution_count": 6,
   "metadata": {},
   "outputs": [],
   "source": [
    "data.drop_duplicates(inplace=True)"
   ]
  },
  {
   "cell_type": "markdown",
   "metadata": {},
   "source": [
    "Mettons en place une fonction permettant de filtrer notre base de données."
   ]
  },
  {
   "cell_type": "code",
   "execution_count": 7,
   "metadata": {},
   "outputs": [],
   "source": [
    "def selection(data, feature, seuil):\n",
    "    \"\"\"\n",
    "        Fonction permettant de filtrer un dataframe\n",
    "        \n",
    "        :param data: Dataframe à filtrer\n",
    "        :param feature: Feature devant être absolument renseignée\n",
    "        :param seuil: Seuil de remplissage minimum requis pour une feature\n",
    "        :type data: DataFrame\n",
    "        :type feature: str\n",
    "        :type seuil: float\n",
    "        :return: Dataframe filtré\n",
    "    \"\"\"\n",
    "    my_data = data.dropna(how='any', subset=[feature]).copy(deep=True)\n",
    "    my_data.dropna(thresh=len(my_data)*seuil, axis=1, inplace=True)\n",
    "    return my_data"
   ]
  },
  {
   "cell_type": "markdown",
   "metadata": {},
   "source": [
    "On décide ici de ne garder que les produits où le nutriscore est renseigné et de retirer les features où il manque au moins la moitié des données."
   ]
  },
  {
   "cell_type": "code",
   "execution_count": 8,
   "metadata": {},
   "outputs": [],
   "source": [
    "my_data = selection(data, 'nutrition-score-fr_100g', 1/2)"
   ]
  },
  {
   "cell_type": "markdown",
   "metadata": {},
   "source": [
    "On enlève ensuite les erreurs facilement repérables, i.e. les valeurs supérieures à 100 ou négatives concernant les features \"pour 100 grammes\", hormis les features \"valeur énergétique\" où le seuil est fixé à 3800 (100g d'huile d'olive correspond à environ 3600 kcal)."
   ]
  },
  {
   "cell_type": "code",
   "execution_count": 9,
   "metadata": {},
   "outputs": [
    {
     "name": "stdout",
     "output_type": "stream",
     "text": [
      "Il y a 62225 erreurs de ce type, soit 19.00%\n"
     ]
    }
   ],
   "source": [
    "list_100g = my_data.columns[my_data.columns.str.contains('100g')]\n",
    "\n",
    "err_total=0\n",
    "for item in list_100g[:-2]: #Les deux derniers éléments sont des nutriscores\n",
    "    if 'energy' in item:\n",
    "        errors = my_data[~my_data[item].between(0.01,3800)].index # huile d'olive: environ 3700 kj pour 100g    \n",
    "        my_data.drop(errors, inplace=True)\n",
    "        err_total+=errors.size\n",
    "    else:\n",
    "        errors = my_data[~my_data[item].between(0,100)].index\n",
    "        my_data.drop(errors, inplace=True)\n",
    "\n",
    "print(f'Il y a {err_total} erreurs de ce type, soit {100*err_total/(my_data.shape[0]+err_total):.2f}%')"
   ]
  },
  {
   "cell_type": "markdown",
   "metadata": {},
   "source": [
    "On sait également que la somme des quantités de protéines, glucides et lipides, pour 100 grammes d'un produit, ne peut dépasser 100 grammes ni être nulle. On retire donc les produits ne satisfaisant pas ces critères."
   ]
  },
  {
   "cell_type": "code",
   "execution_count": 10,
   "metadata": {},
   "outputs": [
    {
     "name": "stdout",
     "output_type": "stream",
     "text": [
      "Il y a 1627 erreurs de ce type, soit 0.61%\n"
     ]
    }
   ],
   "source": [
    "errors =  my_data[~(my_data['carbohydrates_100g'] + my_data['proteins_100g'] + my_data['fat_100g']).between(0.01,100)].index\n",
    "print(f'Il y a {errors.shape[0]} erreurs de ce type, soit {100*errors.shape[0]/my_data.shape[0]:.2f}%')\n",
    "my_data.drop(errors, inplace=True)"
   ]
  },
  {
   "cell_type": "markdown",
   "metadata": {},
   "source": [
    "Dernière chose, \"saturated fat\" et \"sugars\" sont en fait des sous-catégories de \"fat\" et \"carbohydrates\". On va donc vérifier que la valeur de la sous-catégorie d'un produit n'est pas supérieure à celle de la catégorie parente.\n",
    "De plus, le sel est composé à 40% de sodium. On va donc s'assurer qu'il y a bien 2,5 fois plus de sel que de sodium dans un produit."
   ]
  },
  {
   "cell_type": "code",
   "execution_count": 11,
   "metadata": {},
   "outputs": [
    {
     "name": "stdout",
     "output_type": "stream",
     "text": [
      "Il y a 171 erreurs liées aux sucres, soit 0.06%\n",
      "Il y a 125 erreurs liées aux acides gras, soit 0.05%\n",
      "Il y a 23 erreurs liées au sel, soit 0.01%\n"
     ]
    }
   ],
   "source": [
    "error_sugars = my_data[my_data['carbohydrates_100g']<my_data['sugars_100g']].index\n",
    "print(f'Il y a {error_sugars.shape[0]} erreurs liées aux sucres, soit {100*error_sugars.shape[0]/my_data.shape[0]:.2f}%')\n",
    "\n",
    "error_fat = my_data[my_data['fat_100g']<my_data['saturated-fat_100g']].index\n",
    "print(f'Il y a {error_fat.shape[0]} erreurs liées aux acides gras, soit {100*error_fat.shape[0]/my_data.shape[0]:.2f}%')\n",
    "\n",
    "\n",
    "\n",
    "sodium = my_data[my_data['sodium_100g']>0]\n",
    "error_salt = sodium[~(sodium['salt_100g']/sodium['sodium_100g']).between(2.4,2.6)].index\n",
    "print(f'Il y a {error_salt.shape[0]} erreurs liées au sel, soit {100*error_salt.shape[0]/my_data.shape[0]:.2f}%')\n",
    "\n",
    "new_errors =  error_fat.union(error_fat).union(error_sugars)\n",
    "my_data.drop(new_errors, inplace=True)"
   ]
  },
  {
   "cell_type": "markdown",
   "metadata": {},
   "source": [
    "Après observation, on remarque que la feature pnns_groups_1 contient des doublons. On y remédie en supprimant les tirets et les majuscules."
   ]
  },
  {
   "cell_type": "code",
   "execution_count": 12,
   "metadata": {},
   "outputs": [
    {
     "data": {
      "text/plain": [
       "Sugary snacks              39419\n",
       "Milk and dairy products    34681\n",
       "Fish Meat Eggs             34346\n",
       "unknown                    32137\n",
       "Cereals and potatoes       26929\n",
       "Fruits and vegetables      19755\n",
       "Composite foods            19582\n",
       "Fat and sauces             18759\n",
       "Beverages                  16982\n",
       "Salty snacks               15577\n",
       "sugary-snacks               2829\n",
       "fruits-and-vegetables       1969\n",
       "cereals-and-potatoes          36\n",
       "salty-snacks                   4\n",
       "Name: pnns_groups_1, dtype: int64"
      ]
     },
     "execution_count": 12,
     "metadata": {},
     "output_type": "execute_result"
    }
   ],
   "source": [
    "my_data['pnns_groups_1'].value_counts()"
   ]
  },
  {
   "cell_type": "code",
   "execution_count": 13,
   "metadata": {},
   "outputs": [],
   "source": [
    "my_data['pnns_groups_1'] = my_data['pnns_groups_1'].str.replace('-', ' ').str.lower()"
   ]
  },
  {
   "cell_type": "code",
   "execution_count": 14,
   "metadata": {},
   "outputs": [
    {
     "data": {
      "text/plain": [
       "sugary snacks              42248\n",
       "milk and dairy products    34681\n",
       "fish meat eggs             34346\n",
       "unknown                    32137\n",
       "cereals and potatoes       26965\n",
       "fruits and vegetables      21724\n",
       "composite foods            19582\n",
       "fat and sauces             18759\n",
       "beverages                  16982\n",
       "salty snacks               15581\n",
       "Name: pnns_groups_1, dtype: int64"
      ]
     },
     "execution_count": 14,
     "metadata": {},
     "output_type": "execute_result"
    }
   ],
   "source": [
    "my_data['pnns_groups_1'].value_counts()"
   ]
  },
  {
   "cell_type": "markdown",
   "metadata": {},
   "source": [
    "Voyons le taux de remplissage des features conservées."
   ]
  },
  {
   "cell_type": "code",
   "execution_count": 15,
   "metadata": {},
   "outputs": [
    {
     "data": {
      "text/plain": [
       "nutrition-score-uk_100g                    100.000000\n",
       "states_en                                  100.000000\n",
       "url                                        100.000000\n",
       "creator                                    100.000000\n",
       "created_t                                  100.000000\n",
       "created_datetime                           100.000000\n",
       "last_modified_t                            100.000000\n",
       "last_modified_datetime                     100.000000\n",
       "nutriscore_score                           100.000000\n",
       "nutriscore_grade                           100.000000\n",
       "nutrition-score-fr_100g                    100.000000\n",
       "pnns_groups_2                              100.000000\n",
       "states                                     100.000000\n",
       "states_tags                                100.000000\n",
       "code                                       100.000000\n",
       "energy-kcal_100g                           100.000000\n",
       "sodium_100g                                100.000000\n",
       "salt_100g                                  100.000000\n",
       "proteins_100g                              100.000000\n",
       "sugars_100g                                100.000000\n",
       "energy_100g                                100.000000\n",
       "fat_100g                                   100.000000\n",
       "carbohydrates_100g                         100.000000\n",
       "saturated-fat_100g                         100.000000\n",
       "categories                                  99.999620\n",
       "main_category_en                            99.999620\n",
       "main_category                               99.999620\n",
       "categories_en                               99.999620\n",
       "categories_tags                             99.999620\n",
       "countries_tags                              99.942661\n",
       "countries_en                                99.942661\n",
       "countries                                   99.942661\n",
       "pnns_groups_1                               99.870513\n",
       "product_name                                99.517365\n",
       "image_small_url                             87.029232\n",
       "image_url                                   87.029232\n",
       "brands                                      80.819150\n",
       "brands_tags                                 80.815733\n",
       "image_ingredients_small_url                 77.315775\n",
       "image_ingredients_url                       77.315775\n",
       "ingredients_text                            57.901392\n",
       "additives_n                                 57.899493\n",
       "ingredients_from_palm_oil_n                 57.899493\n",
       "ingredients_that_may_be_from_palm_oil_n     57.899493\n",
       "image_nutrition_small_url                   54.544592\n",
       "image_nutrition_url                         54.544592\n",
       "nova_group                                  50.792114\n",
       "quantity                                    49.459267\n",
       "dtype: float64"
      ]
     },
     "execution_count": 15,
     "metadata": {},
     "output_type": "execute_result"
    }
   ],
   "source": [
    "(100*my_data.count()/my_data.shape[0]).sort_values(axis=0, ascending=False)"
   ]
  },
  {
   "cell_type": "markdown",
   "metadata": {},
   "source": [
    "Pour la suite, le but étant de comparer les produits végans aux produits non végans, nous n'allons garder que les produits dont les ingrédients sont renseignés afin de s'assurer qu'ils soient dans la bonne catégorie.\n",
    "Enfin, l'appel à projet étant lancé par l'agence \"Santé publique France\", nous n'allons conserver que les produits disponibles en France."
   ]
  },
  {
   "cell_type": "code",
   "execution_count": 16,
   "metadata": {},
   "outputs": [],
   "source": [
    "my_data = my_data[my_data['countries_tags'].str.contains('france', na=False, case=False)]"
   ]
  },
  {
   "cell_type": "code",
   "execution_count": 17,
   "metadata": {},
   "outputs": [],
   "source": [
    "my_data = selection(my_data, 'ingredients_text', 0)"
   ]
  },
  {
   "cell_type": "code",
   "execution_count": 19,
   "metadata": {},
   "outputs": [
    {
     "data": {
      "text/plain": [
       "nutrition-score-uk_100g                    100.000000\n",
       "states_tags                                100.000000\n",
       "pnns_groups_2                              100.000000\n",
       "nutrition-score-fr_100g                    100.000000\n",
       "nutriscore_grade                           100.000000\n",
       "nutriscore_score                           100.000000\n",
       "ingredients_that_may_be_from_palm_oil_n    100.000000\n",
       "ingredients_from_palm_oil_n                100.000000\n",
       "additives_n                                100.000000\n",
       "ingredients_text                           100.000000\n",
       "countries_en                               100.000000\n",
       "countries_tags                             100.000000\n",
       "countries                                  100.000000\n",
       "last_modified_datetime                     100.000000\n",
       "last_modified_t                            100.000000\n",
       "created_datetime                           100.000000\n",
       "created_t                                  100.000000\n",
       "creator                                    100.000000\n",
       "url                                        100.000000\n",
       "states                                     100.000000\n",
       "code                                       100.000000\n",
       "states_en                                  100.000000\n",
       "sodium_100g                                100.000000\n",
       "salt_100g                                  100.000000\n",
       "proteins_100g                              100.000000\n",
       "sugars_100g                                100.000000\n",
       "carbohydrates_100g                         100.000000\n",
       "saturated-fat_100g                         100.000000\n",
       "energy-kcal_100g                           100.000000\n",
       "energy_100g                                100.000000\n",
       "fat_100g                                   100.000000\n",
       "main_category                               99.999050\n",
       "categories                                  99.999050\n",
       "categories_tags                             99.999050\n",
       "categories_en                               99.999050\n",
       "main_category_en                            99.999050\n",
       "pnns_groups_1                               99.808010\n",
       "product_name                                99.753835\n",
       "brands                                      98.279697\n",
       "brands_tags                                 98.273994\n",
       "image_ingredients_small_url                 96.500466\n",
       "image_ingredients_url                       96.500466\n",
       "image_small_url                             94.562511\n",
       "image_url                                   94.562511\n",
       "nova_group                                  88.108997\n",
       "quantity                                    72.830612\n",
       "image_nutrition_small_url                   69.721710\n",
       "image_nutrition_url                         69.721710\n",
       "dtype: float64"
      ]
     },
     "execution_count": 19,
     "metadata": {},
     "output_type": "execute_result"
    }
   ],
   "source": [
    "(100*my_data.count()/my_data.shape[0]).sort_values(axis=0, ascending=False)"
   ]
  },
  {
   "cell_type": "markdown",
   "metadata": {},
   "source": [
    "Nous allons maintenant ajouter une feature \"vegan\" à notre jeu de données. Dans cette colonne, un produit considéré comme végan aura comme valeur \"True\", et \"False\" dans le cas contraire. \n",
    "Pour cela, plusieurs vérifications sont nécessaires, sur les features main_category_en, ingredients_text et pnns_groups_1"
   ]
  },
  {
   "cell_type": "code",
   "execution_count": 23,
   "metadata": {},
   "outputs": [],
   "source": [
    "my_data['vegan'] = ~(my_data['main_category_en'].str.contains('meat|seafood|dairies|fish|egg|oeuf|farming products|\\\n",
    "terrines|salmon',na= False, case = False) | my_data['ingredients_text'].str.contains('egg|oeuf|huevo|ham|jambon|jamòn|meat|\\\n",
    "viande|carne|cheese|fromage|queso|honey|miel|fish|poisson|pescado|milk|lait|leche|butter|beurre|mantequilla|gelatin|\\\n",
    "gélatine|Schinken|Käse|Schatz|Fisch|Milch', na=False, case=False)| \\\n",
    "my_data['pnns_groups_1'].str.contains('fish|meat',na=False, case=False) |\\\n",
    "my_data['pnns_groups_2'].str.contains('cheese',na=False, case=False))"
   ]
  },
  {
   "cell_type": "code",
   "execution_count": 232,
   "metadata": {},
   "outputs": [
    {
     "data": {
      "text/plain": [
       "False    60995\n",
       "True     44219\n",
       "Name: vegan, dtype: int64"
      ]
     },
     "execution_count": 232,
     "metadata": {},
     "output_type": "execute_result"
    }
   ],
   "source": [
    "my_data['vegan'].value_counts()"
   ]
  },
  {
   "cell_type": "markdown",
   "metadata": {},
   "source": [
    "Pour la suite, nous n'allons conserver ques les features que l'on juge pertinentes pour notre problématique. Deux catégories se distinguent : qualitatives et quantitatives."
   ]
  },
  {
   "cell_type": "code",
   "execution_count": 218,
   "metadata": {},
   "outputs": [],
   "source": [
    "features_quanti = ['nutriscore_score', 'salt_100g', 'proteins_100g', 'sugars_100g', 'carbohydrates_100g',\\\n",
    "            'saturated-fat_100g', 'fat_100g', 'energy_100g']\n",
    "features_quali = ['code', 'brands_tags', 'nutriscore_grade', 'nova_group', 'pnns_groups_1', 'pnns_groups_2',\\\n",
    "                  'main_category_en', 'vegan']"
   ]
  },
  {
   "cell_type": "markdown",
   "metadata": {},
   "source": [
    "Si une classification n'est pas renseignée, on estime que le produit est dans la plus mauvaise catégorie."
   ]
  },
  {
   "cell_type": "code",
   "execution_count": null,
   "metadata": {},
   "outputs": [],
   "source": [
    "my_data['nova_group'] = pd.Categorical(my_data['nova_group'], categories=[1.0, 2.0, 3.0, 4.0], ordered=True)\n",
    "my_data['nova_group'].fillna(4.0)\n",
    "\n",
    "my_data['nutriscore_grade'] = pd.Categorical(my_data['nutriscore_grade'], categories=list('abcde'), ordered=True)\n",
    "my_data['nutriscore_grade'].fillna('e')"
   ]
  },
  {
   "cell_type": "markdown",
   "metadata": {},
   "source": [
    "Pour les autres variables qualitatives, si elles ne sont pas renseignées on les classe en 'unknown'"
   ]
  },
  {
   "cell_type": "code",
   "execution_count": 206,
   "metadata": {},
   "outputs": [
    {
     "data": {
      "text/plain": [
       "62                         Bread\n",
       "371          Sweetened beverages\n",
       "377        Unsweetened beverages\n",
       "383                       Fruits\n",
       "384                       Sweets\n",
       "                   ...          \n",
       "1156335       Biscuits and cakes\n",
       "1156356                  Legumes\n",
       "1156461                   Cheese\n",
       "1156639      Sweetened beverages\n",
       "1156654                   Fruits\n",
       "Name: pnns_groups_2, Length: 105214, dtype: object"
      ]
     },
     "execution_count": 206,
     "metadata": {},
     "output_type": "execute_result"
    }
   ],
   "source": [
    "my_data['brands_tags'].fillna('unknown')\n",
    "my_data['main_category_en'].fillna('unknown')\n",
    "my_data['pnns_groups_1'].fillna('unknown') \n",
    "my_data['pnns_groups_2'].fillna('unknown')"
   ]
  },
  {
   "cell_type": "markdown",
   "metadata": {},
   "source": [
    "### Sauvergarde des données"
   ]
  },
  {
   "cell_type": "code",
   "execution_count": 233,
   "metadata": {},
   "outputs": [],
   "source": [
    "my_data[['code','product_name', 'brands_tags', 'nutriscore_grade', 'nova_group', 'pnns_groups_1', 'pnns_groups_2','main_category_en', 'vegan','nutriscore_score', 'salt_100g', 'proteins_100g', 'sugars_100g', 'carbohydrates_100g', 'saturated-fat_100g', 'fat_100g', 'energy_100g']].to_csv(r'my_data.csv', index=False)"
   ]
  },
  {
   "cell_type": "code",
   "execution_count": null,
   "metadata": {},
   "outputs": [],
   "source": []
  },
  {
   "cell_type": "code",
   "execution_count": null,
   "metadata": {},
   "outputs": [],
   "source": []
  },
  {
   "cell_type": "code",
   "execution_count": null,
   "metadata": {},
   "outputs": [],
   "source": []
  }
 ],
 "metadata": {
  "kernelspec": {
   "display_name": "Python 3",
   "language": "python",
   "name": "python3"
  },
  "language_info": {
   "codemirror_mode": {
    "name": "ipython",
    "version": 3
   },
   "file_extension": ".py",
   "mimetype": "text/x-python",
   "name": "python",
   "nbconvert_exporter": "python",
   "pygments_lexer": "ipython3",
   "version": "3.7.6"
  }
 },
 "nbformat": 4,
 "nbformat_minor": 2
}
